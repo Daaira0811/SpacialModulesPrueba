{
 "cells": [
  {
   "cell_type": "code",
   "execution_count": 2,
   "id": "2e20b172-59ba-422a-b5ed-64635ed87791",
   "metadata": {},
   "outputs": [],
   "source": [
    "import sys\n",
    "sys.path.append('../')"
   ]
  },
  {
   "cell_type": "code",
   "execution_count": 3,
   "id": "19eb57fc-eb9b-46e8-a2a6-e681b9da8393",
   "metadata": {},
   "outputs": [],
   "source": [
    "from Proximity import prox_model, Proximity_Indicator\n",
    "from brix import Indicator, Handler, Grid_maker\n",
    "import US_State\n",
    "import datetime\n",
    "import geopandas as gpd\n",
    "import json\n",
    "import requests"
   ]
  },
  {
   "cell_type": "markdown",
   "id": "e810429c-d8ce-44ab-9398-70bdb188efff",
   "metadata": {},
   "source": [
    "# In this example, we will:\n",
    "    - download some census data filtered to the area surrounding the grid\n",
    "    - create and deploy a proximity indicator"
   ]
  },
  {
   "cell_type": "code",
   "execution_count": 4,
   "id": "f29538c5-9b29-4fe3-a746-0c324a3e6566",
   "metadata": {},
   "outputs": [],
   "source": [
    "table_name='epa'\n",
    "state_fips=6\n",
    "geom_type='block'"
   ]
  },
  {
   "cell_type": "markdown",
   "id": "128faed7-c035-4b8e-8f69-109a8682bf17",
   "metadata": {},
   "source": [
    "# Set up a back end module"
   ]
  },
  {
   "cell_type": "markdown",
   "id": "c4e66fe8-10d4-4fbb-ae54-a8ae604c1974",
   "metadata": {},
   "source": [
    "### Create the Handler"
   ]
  },
  {
   "cell_type": "code",
   "execution_count": 5,
   "id": "15402c35-1b06-4194-9b73-96ef4c12d208",
   "metadata": {},
   "outputs": [
    {
     "name": "stdout",
     "output_type": "stream",
     "text": [
      "https://cityscope-api.smartaraucania.org/api/tables/list/ Attempt: 0\n",
      "https://cityscope-api.smartaraucania.org/api/table/epa/meta/hashes/ Attempt: 0\n"
     ]
    }
   ],
   "source": [
    "H=Handler(table_name)"
   ]
  },
  {
   "cell_type": "markdown",
   "id": "db3c7f0d-9e28-4ef0-be3f-659553251185",
   "metadata": {},
   "source": [
    "To intialise the proximity indicator, we need geodataframes of (i) the static places/POIs and (ii) the GEOGRID"
   ]
  },
  {
   "cell_type": "code",
   "execution_count": 6,
   "id": "59dd0e5a-bc4e-415e-a6db-99c44a19e775",
   "metadata": {},
   "outputs": [
    {
     "name": "stdout",
     "output_type": "stream",
     "text": [
      "https://cityscope-api.smartaraucania.org/api/table/epa/GEOGRIDDATA/ Attempt: 0\n",
      "https://cityscope-api.smartaraucania.org/api/table/epa/GEOGRID/ Attempt: 0\n"
     ]
    },
    {
     "name": "stderr",
     "output_type": "stream",
     "text": [
      "c:\\Users\\user1\\anaconda3\\envs\\spacialModules\\lib\\site-packages\\brix\\classes.py:981: FutureWarning: In a future version of pandas all arguments of DataFrame.drop except for the argument 'labels' will be keyword-only.\n",
      "  geos = gpd.GeoDataFrame(geos.drop('geometry',1),geometry=geos['geometry'].apply(lambda x: shape(x))) # no crs to avoid warning\n",
      "c:\\Users\\user1\\anaconda3\\envs\\spacialModules\\lib\\site-packages\\brix\\classes.py:251: FutureWarning: In a future version of pandas all arguments of DataFrame.drop except for the argument 'labels' will be keyword-only.\n",
      "  geogrid_data = gpd.GeoDataFrame(geogrid_data.drop('geometry',1),geometry=geogrid_data['geometry'].apply(lambda x: shape(x)),crs='EPSG:4326')\n"
     ]
    }
   ],
   "source": [
    "geogrid=H.get_geogrid_data(include_geometries=True).as_df()"
   ]
  },
  {
   "cell_type": "markdown",
   "id": "c04b0071-6030-44d3-b960-adda4b5b3150",
   "metadata": {},
   "source": [
    "### Get some baseline places data by downloading geometres and demographic data from census"
   ]
  },
  {
   "cell_type": "code",
   "execution_count": 7,
   "id": "7fc1d96f-947e-404a-9c1a-0921137a45b6",
   "metadata": {},
   "outputs": [],
   "source": [
    "lon, lat = geogrid.unary_union.centroid.x, geogrid.unary_union.centroid.y"
   ]
  },
  {
   "cell_type": "code",
   "execution_count": 8,
   "id": "113bb035-3f83-4d1f-b723-555f599fecc8",
   "metadata": {},
   "outputs": [],
   "source": [
    "# st=US_State.US_State(state_fips=state_fips, year=2019, geom_type=geom_type)\n",
    "# st.get_geometry()\n",
    "# st.get_lodes_data( include=['wac', 'rac'])\n",
    "# st.add_lodes_cols_to_shape()"
   ]
  },
  {
   "cell_type": "markdown",
   "id": "f554418d-b060-4b94-8e34-d08fb7e3cbcc",
   "metadata": {},
   "source": [
    "Subset the geometry by distance from the grid to reduce the size "
   ]
  },
  {
   "cell_type": "code",
   "execution_count": 9,
   "id": "c4aca29c-e2e9-4105-8d6c-c0c5c5cca2c9",
   "metadata": {},
   "outputs": [],
   "source": [
    "# st.subset_geom_by_distance(centre_x_y=[lon, lat], \n",
    "#                                    radius=5000, name='model_area')\n",
    "# zones_subset=st.return_geometry('model_area')\n",
    "# zones_subset.explore()"
   ]
  },
  {
   "cell_type": "code",
   "execution_count": 10,
   "id": "fa3b8a19-a48c-4b81-b139-4e156e129340",
   "metadata": {},
   "outputs": [],
   "source": [
    "zones=gpd.read_file('../tables/epa/zones.geojson')"
   ]
  },
  {
   "cell_type": "code",
   "execution_count": 11,
   "id": "e68c8c0c-56e6-40c6-abc6-a2cb5163b4c8",
   "metadata": {},
   "outputs": [],
   "source": [
    "# zones.head()"
   ]
  },
  {
   "cell_type": "code",
   "execution_count": 12,
   "id": "b5cdc13b-81d6-4de5-9cdb-345e3a44d8cd",
   "metadata": {},
   "outputs": [
    {
     "ename": "ImportError",
     "evalue": "The 'folium', 'matplotlib' and 'mapclassify' packages are required for 'explore()'. You can install them using 'conda install -c conda-forge folium matplotlib mapclassify' or 'pip install folium matplotlib mapclassify'.",
     "output_type": "error",
     "traceback": [
      "\u001b[1;31m---------------------------------------------------------------------------\u001b[0m",
      "\u001b[1;31mModuleNotFoundError\u001b[0m                       Traceback (most recent call last)",
      "File \u001b[1;32mc:\\Users\\user1\\anaconda3\\envs\\spacialModules\\lib\\site-packages\\geopandas\\explore.py:279\u001b[0m, in \u001b[0;36m_explore\u001b[1;34m(df, column, cmap, color, m, tiles, attr, tooltip, popup, highlight, categorical, legend, scheme, k, vmin, vmax, width, height, categories, classification_kwds, control_scale, marker_type, marker_kwds, style_kwds, highlight_kwds, missing_kwds, tooltip_kwds, popup_kwds, legend_kwds, map_kwds, **kwargs)\u001b[0m\n\u001b[0;32m    278\u001b[0m \u001b[39mtry\u001b[39;00m:\n\u001b[1;32m--> 279\u001b[0m     \u001b[39mimport\u001b[39;00m \u001b[39mbranca\u001b[39;00m \u001b[39mas\u001b[39;00m \u001b[39mbc\u001b[39;00m\n\u001b[0;32m    280\u001b[0m     \u001b[39mimport\u001b[39;00m \u001b[39mfolium\u001b[39;00m\n",
      "\u001b[1;31mModuleNotFoundError\u001b[0m: No module named 'branca'",
      "\nDuring handling of the above exception, another exception occurred:\n",
      "\u001b[1;31mImportError\u001b[0m                               Traceback (most recent call last)",
      "Cell \u001b[1;32mIn[12], line 1\u001b[0m\n\u001b[1;32m----> 1\u001b[0m zones\u001b[39m.\u001b[39;49mexplore()\n",
      "File \u001b[1;32mc:\\Users\\user1\\anaconda3\\envs\\spacialModules\\lib\\site-packages\\geopandas\\geodataframe.py:1981\u001b[0m, in \u001b[0;36mGeoDataFrame.explore\u001b[1;34m(self, *args, **kwargs)\u001b[0m\n\u001b[0;32m   1978\u001b[0m \u001b[39m@doc\u001b[39m(_explore)\n\u001b[0;32m   1979\u001b[0m \u001b[39mdef\u001b[39;00m \u001b[39mexplore\u001b[39m(\u001b[39mself\u001b[39m, \u001b[39m*\u001b[39margs, \u001b[39m*\u001b[39m\u001b[39m*\u001b[39mkwargs):\n\u001b[0;32m   1980\u001b[0m \u001b[39m    \u001b[39m\u001b[39m\"\"\"Interactive map based on folium/leaflet.js\"\"\"\u001b[39;00m\n\u001b[1;32m-> 1981\u001b[0m     \u001b[39mreturn\u001b[39;00m _explore(\u001b[39mself\u001b[39m, \u001b[39m*\u001b[39margs, \u001b[39m*\u001b[39m\u001b[39m*\u001b[39mkwargs)\n",
      "File \u001b[1;32mc:\\Users\\user1\\anaconda3\\envs\\spacialModules\\lib\\site-packages\\geopandas\\explore.py:294\u001b[0m, in \u001b[0;36m_explore\u001b[1;34m(df, column, cmap, color, m, tiles, attr, tooltip, popup, highlight, categorical, legend, scheme, k, vmin, vmax, width, height, categories, classification_kwds, control_scale, marker_type, marker_kwds, style_kwds, highlight_kwds, missing_kwds, tooltip_kwds, popup_kwds, legend_kwds, map_kwds, **kwargs)\u001b[0m\n\u001b[0;32m    291\u001b[0m         \u001b[39mimport\u001b[39;00m \u001b[39mmatplotlib\u001b[39;00m\u001b[39m.\u001b[39;00m\u001b[39mcm\u001b[39;00m \u001b[39mas\u001b[39;00m \u001b[39mcm\u001b[39;00m\n\u001b[0;32m    293\u001b[0m \u001b[39mexcept\u001b[39;00m (\u001b[39mImportError\u001b[39;00m, \u001b[39mModuleNotFoundError\u001b[39;00m):\n\u001b[1;32m--> 294\u001b[0m     \u001b[39mraise\u001b[39;00m \u001b[39mImportError\u001b[39;00m(\n\u001b[0;32m    295\u001b[0m         \u001b[39m\"\u001b[39m\u001b[39mThe \u001b[39m\u001b[39m'\u001b[39m\u001b[39mfolium\u001b[39m\u001b[39m'\u001b[39m\u001b[39m, \u001b[39m\u001b[39m'\u001b[39m\u001b[39mmatplotlib\u001b[39m\u001b[39m'\u001b[39m\u001b[39m and \u001b[39m\u001b[39m'\u001b[39m\u001b[39mmapclassify\u001b[39m\u001b[39m'\u001b[39m\u001b[39m packages are required for \u001b[39m\u001b[39m\"\u001b[39m\n\u001b[0;32m    296\u001b[0m         \u001b[39m\"\u001b[39m\u001b[39m'\u001b[39m\u001b[39mexplore()\u001b[39m\u001b[39m'\u001b[39m\u001b[39m. You can install them using \u001b[39m\u001b[39m\"\u001b[39m\n\u001b[0;32m    297\u001b[0m         \u001b[39m\"\u001b[39m\u001b[39m'\u001b[39m\u001b[39mconda install -c conda-forge folium matplotlib mapclassify\u001b[39m\u001b[39m'\u001b[39m\u001b[39m \u001b[39m\u001b[39m\"\u001b[39m\n\u001b[0;32m    298\u001b[0m         \u001b[39m\"\u001b[39m\u001b[39mor \u001b[39m\u001b[39m'\u001b[39m\u001b[39mpip install folium matplotlib mapclassify\u001b[39m\u001b[39m'\u001b[39m\u001b[39m.\u001b[39m\u001b[39m\"\u001b[39m\n\u001b[0;32m    299\u001b[0m     )\n\u001b[0;32m    301\u001b[0m \u001b[39m# xyservices is an optional dependency\u001b[39;00m\n\u001b[0;32m    302\u001b[0m \u001b[39mtry\u001b[39;00m:\n",
      "\u001b[1;31mImportError\u001b[0m: The 'folium', 'matplotlib' and 'mapclassify' packages are required for 'explore()'. You can install them using 'conda install -c conda-forge folium matplotlib mapclassify' or 'pip install folium matplotlib mapclassify'."
     ]
    }
   ],
   "source": [
    "zones.explore()"
   ]
  },
  {
   "cell_type": "markdown",
   "id": "f1985fb3-28c9-42c0-8080-d34772d70160",
   "metadata": {},
   "source": [
    "### Define the proximity targets\n",
    "- column is the column of the GeoDataFrame corresponding to this POI. The column can be binary (indicating whther the row is one these POIs) or numerical (indicating the capacity of the POI contained in this place.\n",
    "- 'from' represents the relevant source location for this POI. eg. if we want a POI (eg. employment) to be located close to where people live, then 'from' should be the column representing residential population.\n",
    "- 'max' is used in the linear normalisation of indicators. If the proximity result is equal to or greater than the max, the score will be 1."
   ]
  },
  {
   "cell_type": "code",
   "execution_count": null,
   "id": "43aef6b4-3a05-49eb-a00b-123afb2f706a",
   "metadata": {},
   "outputs": [],
   "source": [
    "target_settings={'housing': {'column': 'res_total','max': 100000, 'from': 'emp_total'},\n",
    "                 'healthcare': {'column': 'emp_naics_62','max': 10000, 'from': 'res_total'},\n",
    "                 'jobs': {'column': 'emp_total','max': 100000, 'from': 'res_total'},\n",
    "                'shopping': {'column': 'emp_naics_44-45','max': 10000, 'from': 'res_total'},\n",
    "                'education': {'column': 'emp_naics_61','max': 10000, 'from': 'res_total'},\n",
    "                'entertainment': {'column': 'emp_naics_71','max': 10000, 'from': 'res_total'}}"
   ]
  },
  {
   "cell_type": "markdown",
   "id": "81943b05-ab78-4f57-80bf-7468a0c5f378",
   "metadata": {},
   "source": [
    "### Create the proximity indicator.\n",
    "- 'max_dist' is the network search radius in meters. eg. for 15 minutes walking accessibility, use max_dist=1200 (assuming average espeed of 4.8km/hr)"
   ]
  },
  {
   "cell_type": "code",
   "execution_count": null,
   "id": "4dc5dc95-8e44-49cf-b912-6a5aa3207b7c",
   "metadata": {},
   "outputs": [
    {
     "name": "stderr",
     "output_type": "stream",
     "text": [
      "/Users/ronandoorley/Documents/Media_Lab/CityScope/CS_Spatial_Modules/examples/../Proximity.py:35: UserWarning: Geometry is in a geographic CRS. Results from 'area' are likely incorrect. Use 'GeoSeries.to_crs()' to re-project geometries to a projected CRS before this operation.\n",
      "\n",
      "  geom_1['zone_area']=geom_1.geometry.area\n",
      "/Users/ronandoorley/Documents/Media_Lab/CityScope/CS_Spatial_Modules/examples/../Proximity.py:37: UserWarning: Geometry is in a geographic CRS. Results from 'area' are likely incorrect. Use 'GeoSeries.to_crs()' to re-project geometries to a projected CRS before this operation.\n",
      "\n",
      "  all_intersect['intersect_area']=all_intersect.geometry.area\n"
     ]
    },
    {
     "name": "stdout",
     "output_type": "stream",
     "text": [
      "Getting network inside buffered outline from OSM\n"
     ]
    },
    {
     "name": "stderr",
     "output_type": "stream",
     "text": [
      "/Users/ronandoorley/Documents/Media_Lab/CityScope/CS_Spatial_Modules/examples/../Proximity.py:12: UserWarning: Geometry is in a geographic CRS. Results from 'centroid' are likely incorrect. Use 'GeoSeries.to_crs()' to re-project geometries to a projected CRS before this operation.\n",
      "\n",
      "  longitude=sum([c.x for c in geom.geometry.centroid])/len(geom)\n",
      "/opt/anaconda3/envs/prox/lib/python3.10/site-packages/osmnet/load.py:445: FutureWarning: Assigning CRS to a GeoDataFrame without a geometry column is now deprecated and will not be supported in the future.\n",
      "  gdf.crs = crs\n",
      "/opt/anaconda3/envs/prox/lib/python3.10/site-packages/pyproj/crs/crs.py:130: FutureWarning: '+init=<authority>:<code>' syntax is deprecated. '<authority>:<code>' is the preferred initialization method. When making the change, be mindful of axis order changes: https://pyproj4.github.io/pyproj/stable/gotchas.html#axis-order-changes-in-proj-6\n",
      "  in_crs_string = _prepare_from_proj_string(in_crs_string)\n",
      "/opt/anaconda3/envs/prox/lib/python3.10/site-packages/osmnet/load.py:445: FutureWarning: Assigning CRS to a GeoDataFrame without a geometry column is now deprecated and will not be supported in the future.\n",
      "  gdf.crs = crs\n",
      "/opt/anaconda3/envs/prox/lib/python3.10/site-packages/osmnet/load.py:147: ShapelyDeprecationWarning: __len__ for multi-part geometries is deprecated and will be removed in Shapely 2.0. Check the length of the `geoms` property instead to get the  number of parts of a multi-part geometry.\n",
      "  'in {:,} request(s)'.format(len(geometry)))\n",
      "/opt/anaconda3/envs/prox/lib/python3.10/site-packages/osmnet/load.py:151: ShapelyDeprecationWarning: Iteration over multi-part geometries is deprecated and will be removed in Shapely 2.0. Use the `geoms` property to access the constituent parts of a multi-part geometry.\n",
      "  for poly in geometry:\n"
     ]
    },
    {
     "name": "stdout",
     "output_type": "stream",
     "text": [
      "Requesting network data within bounding box from Overpass API in 1 request(s)\n",
      "Posting to http://www.overpass-api.de/api/interpreter with timeout=180, \"{'data': '[out:json][timeout:180];(way[\"highway\"][\"highway\"!~\"motor|proposed|construction|abandoned|platform|raceway\"][\"foot\"!~\"no\"][\"pedestrians\"!~\"no\"](37.42688986,-122.18364460,37.50397158,-122.08612927);>;);out;'}\"\n",
      "Downloaded 9,473.7KB from www.overpass-api.de in 3.27 seconds\n",
      "Downloaded OSM network data within bounding box from Overpass API in 1 request(s) and 3.40 seconds\n"
     ]
    },
    {
     "name": "stderr",
     "output_type": "stream",
     "text": [
      "/opt/anaconda3/envs/prox/lib/python3.10/site-packages/osmnet/load.py:171: ShapelyDeprecationWarning: __len__ for multi-part geometries is deprecated and will be removed in Shapely 2.0. Check the length of the `geoms` property instead to get the  number of parts of a multi-part geometry.\n",
      "  ' {:,.2f} seconds'.format(len(geometry), time.time()-start_time))\n"
     ]
    },
    {
     "name": "stdout",
     "output_type": "stream",
     "text": [
      "Returning OSM data with 57,758 nodes and 12,224 ways...\n",
      "Edge node pairs completed. Took 4.87 seconds\n",
      "Returning processed graph with 15,678 nodes and 21,930 edges...\n",
      "Completed OSM data download and Pandana node and edge table creation in 8.77 seconds\n",
      "Generating contraction hierarchies with 8 threads.\n",
      "Setting CH node vector of size 15678\n",
      "Setting CH edge vector of size 22236\n",
      "Range graph removed 1242 edges of 44472\n",
      ". 10% . 20% . 30% . 40% . 50% . 60% . 70% . 80% . 90% . 100%\n",
      "Finding closest nodes to each place\n"
     ]
    },
    {
     "name": "stderr",
     "output_type": "stream",
     "text": [
      "/Users/ronandoorley/Documents/Media_Lab/CityScope/CS_Spatial_Modules/examples/../Proximity.py:12: UserWarning: Geometry is in a geographic CRS. Results from 'centroid' are likely incorrect. Use 'GeoSeries.to_crs()' to re-project geometries to a projected CRS before this operation.\n",
      "\n",
      "  longitude=sum([c.x for c in geom.geometry.centroid])/len(geom)\n"
     ]
    },
    {
     "name": "stdout",
     "output_type": "stream",
     "text": [
      "Building distance matrix\n",
      "Finding closest nodes to each place\n"
     ]
    },
    {
     "name": "stderr",
     "output_type": "stream",
     "text": [
      "/Users/ronandoorley/Documents/Media_Lab/CityScope/CS_Spatial_Modules/examples/../Proximity.py:12: UserWarning: Geometry is in a geographic CRS. Results from 'centroid' are likely incorrect. Use 'GeoSeries.to_crs()' to re-project geometries to a projected CRS before this operation.\n",
      "\n",
      "  longitude=sum([c.x for c in geom.geometry.centroid])/len(geom)\n"
     ]
    }
   ],
   "source": [
    "p=Proximity_Indicator(static_places=zones, geogrid=geogrid, \n",
    "                      max_dist=2400, target_settings=target_settings)"
   ]
  },
  {
   "cell_type": "code",
   "execution_count": null,
   "id": "faebc725-cf70-4263-8b1f-8481535c269a",
   "metadata": {},
   "outputs": [
    {
     "name": "stderr",
     "output_type": "stream",
     "text": [
      "/opt/anaconda3/envs/prox/lib/python3.10/site-packages/brix/classes.py:711: UserWarning: Indicator 0001 already exists and will be overwritten\n",
      "  warn(f'Indicator {indicatorName} already exists and will be overwritten')\n"
     ]
    },
    {
     "name": "stdout",
     "output_type": "stream",
     "text": [
      "https://cityio.media.mit.edu/api/table/epa/GEOGRIDDATA/ Attempt: 0\n"
     ]
    },
    {
     "name": "stderr",
     "output_type": "stream",
     "text": [
      "/opt/anaconda3/envs/prox/lib/python3.10/site-packages/brix/classes.py:251: FutureWarning: In a future version of pandas all arguments of DataFrame.drop except for the argument 'labels' will be keyword-only.\n",
      "  geogrid_data = gpd.GeoDataFrame(geogrid_data.drop('geometry',1),geometry=geogrid_data['geometry'].apply(lambda x: shape(x)),crs='EPSG:4326')\n"
     ]
    },
    {
     "name": "stdout",
     "output_type": "stream",
     "text": [
      "emp_naics_62\n",
      "emp_naics_44-45\n",
      "emp_naics_61\n",
      "emp_naics_71\n",
      "Proximity calculation took 0:00:01.026966 seconds\n"
     ]
    },
    {
     "name": "stderr",
     "output_type": "stream",
     "text": [
      "/Users/ronandoorley/Documents/Media_Lab/CityScope/CS_Spatial_Modules/examples/../Proximity.py:160: UserWarning: Geometry is in a geographic CRS. Results from 'centroid' are likely incorrect. Use 'GeoSeries.to_crs()' to re-project geometries to a projected CRS before this operation.\n",
      "\n",
      "  heatmap.geometry=heatmap.geometry.centroid\n"
     ]
    },
    {
     "name": "stdout",
     "output_type": "stream",
     "text": [
      "Table URL: https://cityscope.media.mit.edu/CS_cityscopeJS/?cityscope=epa\n",
      "Testing indicators\n",
      "https://cityio.media.mit.edu/api/table/epa/GEOGRIDDATA/ Attempt: 0\n"
     ]
    },
    {
     "name": "stderr",
     "output_type": "stream",
     "text": [
      "/opt/anaconda3/envs/prox/lib/python3.10/site-packages/brix/classes.py:251: FutureWarning: In a future version of pandas all arguments of DataFrame.drop except for the argument 'labels' will be keyword-only.\n",
      "  geogrid_data = gpd.GeoDataFrame(geogrid_data.drop('geometry',1),geometry=geogrid_data['geometry'].apply(lambda x: shape(x)),crs='EPSG:4326')\n"
     ]
    },
    {
     "name": "stdout",
     "output_type": "stream",
     "text": [
      "emp_naics_62\n",
      "emp_naics_44-45\n",
      "emp_naics_61\n",
      "emp_naics_71\n",
      "Proximity calculation took 0:00:00.919054 seconds\n"
     ]
    },
    {
     "name": "stderr",
     "output_type": "stream",
     "text": [
      "/Users/ronandoorley/Documents/Media_Lab/CityScope/CS_Spatial_Modules/examples/../Proximity.py:160: UserWarning: Geometry is in a geographic CRS. Results from 'centroid' are likely incorrect. Use 'GeoSeries.to_crs()' to re-project geometries to a projected CRS before this operation.\n",
      "\n",
      "  heatmap.geometry=heatmap.geometry.centroid\n"
     ]
    },
    {
     "name": "stdout",
     "output_type": "stream",
     "text": [
      "Performing initial update\n",
      "Updating geogrid_data\n",
      "https://cityio.media.mit.edu/api/table/epa/GEOGRIDDATA/ Attempt: 0\n",
      "https://cityio.media.mit.edu/api/table/epa/meta/hashes/ Attempt: 0\n",
      "Updating table with hash: 3S3NiFcgQ9qTjE6J6PKz13kwk1cnAA5G9aKx9AWjrFbR\n",
      "https://cityio.media.mit.edu/api/table/epa/GEOGRIDDATA/ Attempt: 0\n"
     ]
    },
    {
     "name": "stderr",
     "output_type": "stream",
     "text": [
      "/opt/anaconda3/envs/prox/lib/python3.10/site-packages/brix/classes.py:251: FutureWarning: In a future version of pandas all arguments of DataFrame.drop except for the argument 'labels' will be keyword-only.\n",
      "  geogrid_data = gpd.GeoDataFrame(geogrid_data.drop('geometry',1),geometry=geogrid_data['geometry'].apply(lambda x: shape(x)),crs='EPSG:4326')\n"
     ]
    },
    {
     "name": "stdout",
     "output_type": "stream",
     "text": [
      "emp_naics_62\n",
      "emp_naics_44-45\n",
      "emp_naics_61\n",
      "emp_naics_71\n",
      "Proximity calculation took 0:00:00.925516 seconds\n"
     ]
    },
    {
     "name": "stderr",
     "output_type": "stream",
     "text": [
      "/Users/ronandoorley/Documents/Media_Lab/CityScope/CS_Spatial_Modules/examples/../Proximity.py:160: UserWarning: Geometry is in a geographic CRS. Results from 'centroid' are likely incorrect. Use 'GeoSeries.to_crs()' to re-project geometries to a projected CRS before this operation.\n",
      "\n",
      "  heatmap.geometry=heatmap.geometry.centroid\n"
     ]
    },
    {
     "name": "stdout",
     "output_type": "stream",
     "text": [
      "Done with update\n",
      "Local grid hash: 3S3NiFcgQ9qTjE6J6PKz13kwk1cnAA5G9aKx9AWjrFbR\n",
      "https://cityio.media.mit.edu/api/table/epa/meta/hashes/ Attempt: 0\n",
      "https://cityio.media.mit.edu/api/table/epa/meta/hashes/ Attempt: 0\n",
      "https://cityio.media.mit.edu/api/table/epa/meta/hashes/ Attempt: 0\n",
      "https://cityio.media.mit.edu/api/table/epa/meta/hashes/ Attempt: 0\n",
      "https://cityio.media.mit.edu/api/table/epa/meta/hashes/ Attempt: 0\n",
      "https://cityio.media.mit.edu/api/table/epa/meta/hashes/ Attempt: 0\n",
      "https://cityio.media.mit.edu/api/table/epa/meta/hashes/ Attempt: 0\n",
      "https://cityio.media.mit.edu/api/table/epa/meta/hashes/ Attempt: 0\n",
      "https://cityio.media.mit.edu/api/table/epa/meta/hashes/ Attempt: 0\n",
      "https://cityio.media.mit.edu/api/table/epa/meta/hashes/ Attempt: 0\n",
      "https://cityio.media.mit.edu/api/table/epa/meta/hashes/ Attempt: 0\n",
      "https://cityio.media.mit.edu/api/table/epa/meta/hashes/ Attempt: 0\n",
      "https://cityio.media.mit.edu/api/table/epa/meta/hashes/ Attempt: 0\n",
      "https://cityio.media.mit.edu/api/table/epa/meta/hashes/ Attempt: 0\n",
      "https://cityio.media.mit.edu/api/table/epa/meta/hashes/ Attempt: 0\n",
      "Waking up!\n",
      "Updating geogrid_data\n",
      "https://cityio.media.mit.edu/api/table/epa/GEOGRIDDATA/ Attempt: 0\n",
      "Updating table with hash: BFTga8RwNze9Dz15pTni4JULqeScqgPmf8yrH4eoFwdh\n",
      "https://cityio.media.mit.edu/api/table/epa/GEOGRIDDATA/ Attempt: 0\n"
     ]
    },
    {
     "name": "stderr",
     "output_type": "stream",
     "text": [
      "/opt/anaconda3/envs/prox/lib/python3.10/site-packages/brix/classes.py:251: FutureWarning: In a future version of pandas all arguments of DataFrame.drop except for the argument 'labels' will be keyword-only.\n",
      "  geogrid_data = gpd.GeoDataFrame(geogrid_data.drop('geometry',1),geometry=geogrid_data['geometry'].apply(lambda x: shape(x)),crs='EPSG:4326')\n"
     ]
    },
    {
     "name": "stdout",
     "output_type": "stream",
     "text": [
      "emp_naics_62\n",
      "emp_naics_44-45\n",
      "emp_naics_61\n",
      "emp_naics_71\n",
      "Proximity calculation took 0:00:00.930954 seconds\n"
     ]
    },
    {
     "name": "stderr",
     "output_type": "stream",
     "text": [
      "/Users/ronandoorley/Documents/Media_Lab/CityScope/CS_Spatial_Modules/examples/../Proximity.py:160: UserWarning: Geometry is in a geographic CRS. Results from 'centroid' are likely incorrect. Use 'GeoSeries.to_crs()' to re-project geometries to a projected CRS before this operation.\n",
      "\n",
      "  heatmap.geometry=heatmap.geometry.centroid\n"
     ]
    },
    {
     "name": "stdout",
     "output_type": "stream",
     "text": [
      "Done with update\n",
      "Local grid hash: BFTga8RwNze9Dz15pTni4JULqeScqgPmf8yrH4eoFwdh\n",
      "https://cityio.media.mit.edu/api/table/epa/meta/hashes/ Attempt: 0\n",
      "https://cityio.media.mit.edu/api/table/epa/meta/hashes/ Attempt: 0\n",
      "https://cityio.media.mit.edu/api/table/epa/meta/hashes/ Attempt: 0\n",
      "https://cityio.media.mit.edu/api/table/epa/meta/hashes/ Attempt: 0\n",
      "https://cityio.media.mit.edu/api/table/epa/meta/hashes/ Attempt: 0\n",
      "https://cityio.media.mit.edu/api/table/epa/meta/hashes/ Attempt: 0\n",
      "https://cityio.media.mit.edu/api/table/epa/meta/hashes/ Attempt: 0\n",
      "https://cityio.media.mit.edu/api/table/epa/meta/hashes/ Attempt: 0\n",
      "https://cityio.media.mit.edu/api/table/epa/meta/hashes/ Attempt: 0\n",
      "https://cityio.media.mit.edu/api/table/epa/meta/hashes/ Attempt: 0\n",
      "https://cityio.media.mit.edu/api/table/epa/meta/hashes/ Attempt: 0\n",
      "https://cityio.media.mit.edu/api/table/epa/meta/hashes/ Attempt: 0\n",
      "https://cityio.media.mit.edu/api/table/epa/meta/hashes/ Attempt: 0\n",
      "https://cityio.media.mit.edu/api/table/epa/meta/hashes/ Attempt: 0\n",
      "https://cityio.media.mit.edu/api/table/epa/meta/hashes/ Attempt: 0\n",
      "https://cityio.media.mit.edu/api/table/epa/meta/hashes/ Attempt: 0\n",
      "https://cityio.media.mit.edu/api/table/epa/meta/hashes/ Attempt: 0\n",
      "https://cityio.media.mit.edu/api/table/epa/meta/hashes/ Attempt: 0\n",
      "https://cityio.media.mit.edu/api/table/epa/meta/hashes/ Attempt: 0\n",
      "https://cityio.media.mit.edu/api/table/epa/meta/hashes/ Attempt: 0\n",
      "https://cityio.media.mit.edu/api/table/epa/meta/hashes/ Attempt: 0\n",
      "https://cityio.media.mit.edu/api/table/epa/meta/hashes/ Attempt: 0\n",
      "https://cityio.media.mit.edu/api/table/epa/meta/hashes/ Attempt: 0\n",
      "https://cityio.media.mit.edu/api/table/epa/meta/hashes/ Attempt: 0\n",
      "https://cityio.media.mit.edu/api/table/epa/meta/hashes/ Attempt: 0\n",
      "https://cityio.media.mit.edu/api/table/epa/meta/hashes/ Attempt: 0\n",
      "https://cityio.media.mit.edu/api/table/epa/meta/hashes/ Attempt: 0\n",
      "https://cityio.media.mit.edu/api/table/epa/meta/hashes/ Attempt: 0\n",
      "https://cityio.media.mit.edu/api/table/epa/meta/hashes/ Attempt: 0\n",
      "https://cityio.media.mit.edu/api/table/epa/meta/hashes/ Attempt: 0\n",
      "https://cityio.media.mit.edu/api/table/epa/meta/hashes/ Attempt: 0\n",
      "https://cityio.media.mit.edu/api/table/epa/meta/hashes/ Attempt: 0\n",
      "https://cityio.media.mit.edu/api/table/epa/meta/hashes/ Attempt: 0\n",
      "https://cityio.media.mit.edu/api/table/epa/meta/hashes/ Attempt: 0\n",
      "https://cityio.media.mit.edu/api/table/epa/meta/hashes/ Attempt: 0\n",
      "https://cityio.media.mit.edu/api/table/epa/meta/hashes/ Attempt: 0\n",
      "https://cityio.media.mit.edu/api/table/epa/meta/hashes/ Attempt: 0\n",
      "https://cityio.media.mit.edu/api/table/epa/meta/hashes/ Attempt: 0\n",
      "https://cityio.media.mit.edu/api/table/epa/meta/hashes/ Attempt: 0\n",
      "https://cityio.media.mit.edu/api/table/epa/meta/hashes/ Attempt: 0\n",
      "https://cityio.media.mit.edu/api/table/epa/meta/hashes/ Attempt: 0\n",
      "https://cityio.media.mit.edu/api/table/epa/meta/hashes/ Attempt: 0\n",
      "https://cityio.media.mit.edu/api/table/epa/meta/hashes/ Attempt: 0\n",
      "https://cityio.media.mit.edu/api/table/epa/meta/hashes/ Attempt: 0\n",
      "https://cityio.media.mit.edu/api/table/epa/meta/hashes/ Attempt: 0\n",
      "https://cityio.media.mit.edu/api/table/epa/meta/hashes/ Attempt: 0\n",
      "https://cityio.media.mit.edu/api/table/epa/meta/hashes/ Attempt: 0\n",
      "https://cityio.media.mit.edu/api/table/epa/meta/hashes/ Attempt: 0\n",
      "https://cityio.media.mit.edu/api/table/epa/meta/hashes/ Attempt: 0\n",
      "https://cityio.media.mit.edu/api/table/epa/meta/hashes/ Attempt: 0\n",
      "https://cityio.media.mit.edu/api/table/epa/meta/hashes/ Attempt: 0\n",
      "https://cityio.media.mit.edu/api/table/epa/meta/hashes/ Attempt: 0\n",
      "https://cityio.media.mit.edu/api/table/epa/meta/hashes/ Attempt: 0\n",
      "https://cityio.media.mit.edu/api/table/epa/meta/hashes/ Attempt: 0\n",
      "https://cityio.media.mit.edu/api/table/epa/meta/hashes/ Attempt: 0\n",
      "https://cityio.media.mit.edu/api/table/epa/meta/hashes/ Attempt: 0\n"
     ]
    },
    {
     "ename": "KeyboardInterrupt",
     "evalue": "",
     "output_type": "error",
     "traceback": [
      "\u001b[0;31m---------------------------------------------------------------------------\u001b[0m",
      "\u001b[0;31mKeyboardInterrupt\u001b[0m                         Traceback (most recent call last)",
      "Input \u001b[0;32mIn [15]\u001b[0m, in \u001b[0;36m<cell line: 2>\u001b[0;34m()\u001b[0m\n\u001b[1;32m      1\u001b[0m H\u001b[38;5;241m.\u001b[39madd_indicator(p)\n\u001b[0;32m----> 2\u001b[0m \u001b[43mH\u001b[49m\u001b[38;5;241;43m.\u001b[39;49m\u001b[43mlisten\u001b[49m\u001b[43m(\u001b[49m\u001b[43m)\u001b[49m\n",
      "File \u001b[0;32m/opt/anaconda3/envs/prox/lib/python3.10/site-packages/brix/classes.py:1577\u001b[0m, in \u001b[0;36mHandler.listen\u001b[0;34m(self, new_thread, showFront, append, clear_endpoints, robust)\u001b[0m\n\u001b[1;32m   1575\u001b[0m \t\u001b[38;5;28mself\u001b[39m\u001b[38;5;241m.\u001b[39mstart()\n\u001b[1;32m   1576\u001b[0m \u001b[38;5;28;01melse\u001b[39;00m:\n\u001b[0;32m-> 1577\u001b[0m \t\u001b[38;5;28;43mself\u001b[39;49m\u001b[38;5;241;43m.\u001b[39;49m\u001b[43m_listen\u001b[49m\u001b[43m(\u001b[49m\u001b[43mshowFront\u001b[49m\u001b[38;5;241;43m=\u001b[39;49m\u001b[43mshowFront\u001b[49m\u001b[43m,\u001b[49m\u001b[43mrobust\u001b[49m\u001b[38;5;241;43m=\u001b[39;49m\u001b[43mrobust\u001b[49m\u001b[43m)\u001b[49m\n",
      "File \u001b[0;32m/opt/anaconda3/envs/prox/lib/python3.10/site-packages/brix/classes.py:1512\u001b[0m, in \u001b[0;36mHandler._listen\u001b[0;34m(self, showFront, robust)\u001b[0m\n\u001b[1;32m   1510\u001b[0m \u001b[38;5;28mself\u001b[39m\u001b[38;5;241m.\u001b[39mgrid_hash_id \u001b[38;5;241m=\u001b[39m \u001b[38;5;28mself\u001b[39m\u001b[38;5;241m.\u001b[39mget_grid_hash()\n\u001b[1;32m   1511\u001b[0m \u001b[38;5;28;01mwhile\u001b[39;00m \u001b[38;5;28;01mTrue\u001b[39;00m:\n\u001b[0;32m-> 1512\u001b[0m \t\u001b[43msleep\u001b[49m\u001b[43m(\u001b[49m\u001b[38;5;28;43mself\u001b[39;49m\u001b[38;5;241;43m.\u001b[39;49m\u001b[43msleep_time\u001b[49m\u001b[43m(\u001b[49m\u001b[43m)\u001b[49m\u001b[43m)\u001b[49m\n\u001b[1;32m   1513\u001b[0m \tgrid_hash_id \u001b[38;5;241m=\u001b[39m \u001b[38;5;28mself\u001b[39m\u001b[38;5;241m.\u001b[39mget_grid_hash()\n\u001b[1;32m   1514\u001b[0m \t\u001b[38;5;28;01mif\u001b[39;00m grid_hash_id\u001b[38;5;241m!=\u001b[39m\u001b[38;5;28mself\u001b[39m\u001b[38;5;241m.\u001b[39mgrid_hash_id:\n",
      "\u001b[0;31mKeyboardInterrupt\u001b[0m: "
     ]
    }
   ],
   "source": [
    "H.add_indicator(p)\n",
    "H.listen()"
   ]
  },
  {
   "cell_type": "code",
   "execution_count": null,
   "id": "d6d7dd32-0d44-4704-9d8d-1f54fc35526a",
   "metadata": {},
   "outputs": [],
   "source": []
  }
 ],
 "metadata": {
  "kernelspec": {
   "display_name": "spacialModules",
   "language": "python",
   "name": "python3"
  },
  "language_info": {
   "codemirror_mode": {
    "name": "ipython",
    "version": 3
   },
   "file_extension": ".py",
   "mimetype": "text/x-python",
   "name": "python",
   "nbconvert_exporter": "python",
   "pygments_lexer": "ipython3",
   "version": "3.9.15 (main, Nov 24 2022, 14:39:17) [MSC v.1916 64 bit (AMD64)]"
  },
  "vscode": {
   "interpreter": {
    "hash": "4b006d8351172f38794f000897ad207ac6c1eef22243895d0c6bb96b2dd6c16b"
   }
  }
 },
 "nbformat": 4,
 "nbformat_minor": 5
}
