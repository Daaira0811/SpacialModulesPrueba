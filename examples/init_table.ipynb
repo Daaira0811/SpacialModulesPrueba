{
 "cells": [
  {
   "cell_type": "code",
   "execution_count": 27,
   "id": "98e5d3d1-af69-45f0-82da-ac6d8654dad2",
   "metadata": {},
   "outputs": [],
   "source": [
    "import sys\n",
    "sys.path.append('../')"
   ]
  },
  {
   "cell_type": "code",
   "execution_count": 28,
   "id": "c776c6a3-23c4-4aad-879e-744638d94768",
   "metadata": {},
   "outputs": [],
   "source": [
    "from brix import Indicator, Handler, Grid_maker\n",
    "import US_State\n",
    "import datetime\n",
    "import geopandas as gpd\n",
    "import json\n",
    "import requests"
   ]
  },
  {
   "cell_type": "markdown",
   "id": "80363b82-7f9e-456b-8d43-04fec8f89013",
   "metadata": {},
   "source": [
    "# Initialise the table"
   ]
  },
  {
   "cell_type": "code",
   "execution_count": 29,
   "id": "4f396ca4-8782-4d21-bbea-b7e28ecba269",
   "metadata": {},
   "outputs": [],
   "source": [
    "table_name='epaversion'\n",
    "state_fips=6\n",
    "geom_type='block'\n",
    "lat,lon = 37.47, -122.15634055\n",
    "cell_size=55\n",
    "nrows=50\n",
    "ncols=50\n",
    "rotation=30"
   ]
  },
  {
   "cell_type": "code",
   "execution_count": 30,
   "id": "3dd6b7c6-d8e7-4a11-b053-c9e0d3c32bc2",
   "metadata": {},
   "outputs": [
    {
     "name": "stdout",
     "output_type": "stream",
     "text": [
      "https://cityscope-api.smartaraucania.org/api/tables/list/ Attempt: 0\n",
      "Table epaversion already exists\n",
      "Calculating initial coordinates of each cell\n",
      "Defining properties and headers\n"
     ]
    },
    {
     "name": "stderr",
     "output_type": "stream",
     "text": [
      "c:\\Users\\daira\\miniconda3\\envs\\SpacialModules\\lib\\site-packages\\brix\\grid_maker.py:82: UserWarning: Table epaversion already exists\n",
      "  warn(f'Table {self.table_name} already exists')\n",
      "c:\\Users\\daira\\miniconda3\\envs\\SpacialModules\\lib\\site-packages\\brix\\grid_maker.py:102: FutureWarning: This function is deprecated. See: https://pyproj4.github.io/pyproj/stable/gotchas.html#upgrading-to-pyproj-2-from-pyproj-1\n",
      "  top_left_xy=pyproj.transform(self.wgs, self.projection,\n",
      "c:\\Users\\daira\\miniconda3\\envs\\SpacialModules\\lib\\site-packages\\brix\\grid_maker.py:104: FutureWarning: This function is deprecated. See: https://pyproj4.github.io/pyproj/stable/gotchas.html#upgrading-to-pyproj-2-from-pyproj-1\n",
      "  top_right_xy=pyproj.transform(self.wgs, self.projection,\n",
      "c:\\Users\\daira\\miniconda3\\envs\\SpacialModules\\lib\\site-packages\\brix\\grid_maker.py:119: FutureWarning: This function is deprecated. See: https://pyproj4.github.io/pyproj/stable/gotchas.html#upgrading-to-pyproj-2-from-pyproj-1\n",
      "  lat_grid, lon_grid=pyproj.transform(self.projection,self.wgs,x_rot_trans, y_rot_trans)\n"
     ]
    }
   ],
   "source": [
    "G = Grid_maker(table_name, lat, lon, \n",
    "               cell_size=cell_size, nrows=nrows, ncols=ncols, rotation=rotation)"
   ]
  },
  {
   "cell_type": "code",
   "execution_count": 31,
   "id": "9506000d-062c-4400-9ac4-5c1c55fa9b2f",
   "metadata": {},
   "outputs": [
    {
     "name": "stdout",
     "output_type": "stream",
     "text": [
      "Generating grid geojson\n"
     ]
    }
   ],
   "source": [
    "geogrid=G.get_grid_geojson()"
   ]
  },
  {
   "cell_type": "markdown",
   "id": "7071e17f-9fb3-4f57-8bfb-26ef7f8becf4",
   "metadata": {},
   "source": [
    "### Define the cell types"
   ]
  },
  {
   "cell_type": "code",
   "execution_count": 32,
   "id": "f2aecb8c-01fd-4cb0-bbf9-20958eff7626",
   "metadata": {},
   "outputs": [],
   "source": [
    "types=json.load(open('../data/default_types.json'))\n",
    "geogrid['properties']['types']=types"
   ]
  },
  {
   "cell_type": "markdown",
   "id": "2db4bcc1-817c-4546-a9d2-4a0f1ff31645",
   "metadata": {},
   "source": [
    "### Initialise the grid cells all to None type"
   ]
  },
  {
   "cell_type": "code",
   "execution_count": 33,
   "id": "937292e9-3c0e-4e9e-a8d3-3847cdd679b4",
   "metadata": {},
   "outputs": [],
   "source": [
    "for i in range(len(geogrid['features'])):\n",
    "    geogrid['features'][i]['properties']['name']='None'\n",
    "    geogrid['features'][i]['properties']['color']=types['None']['color']"
   ]
  },
  {
   "cell_type": "markdown",
   "id": "0b6d86d6-43d1-41bc-a9b2-e0eac6388034",
   "metadata": {},
   "source": [
    "### Set some cells to be interactive based on overlap with a boundary"
   ]
  },
  {
   "cell_type": "code",
   "execution_count": 34,
   "id": "1d6d16ad-c7ed-4d65-8e9f-dc286bf3fefc",
   "metadata": {},
   "outputs": [],
   "source": [
    "interactive_area=gpd.read_file(\n",
    "\"\"\"\n",
    "{\n",
    "  \"type\": \"FeatureCollection\",\n",
    "  \"features\": [\n",
    "    {\n",
    "      \"type\": \"Feature\",\n",
    "      \"properties\": {},\n",
    "      \"geometry\": {\n",
    "        \"type\": \"Polygon\",\n",
    "        \"coordinates\": [\n",
    "          [\n",
    "            [\n",
    "              -122.1340012550354,\n",
    "              37.48372979560496\n",
    "            ],\n",
    "            [\n",
    "              -122.13342189788817,\n",
    "              37.482384632757686\n",
    "            ],\n",
    "            [\n",
    "              -122.13419437408449,\n",
    "              37.47972829068993\n",
    "            ],\n",
    "            [\n",
    "              -122.13535308837889,\n",
    "              37.47724214141305\n",
    "            ],\n",
    "            [\n",
    "              -122.13432312011719,\n",
    "              37.47727619881123\n",
    "            ],\n",
    "            [\n",
    "              -122.13428020477295,\n",
    "              37.474108794382126\n",
    "            ],\n",
    "            [\n",
    "              -122.13052511215209,\n",
    "              37.47436423519954\n",
    "            ],\n",
    "            [\n",
    "              -122.13061094284058,\n",
    "              37.475692513376735\n",
    "            ],\n",
    "            [\n",
    "              -122.12966680526732,\n",
    "              37.47575211504922\n",
    "            ],\n",
    "            [\n",
    "              -122.12964534759521,\n",
    "              37.47693562413104\n",
    "            ],\n",
    "            [\n",
    "              -122.1289587020874,\n",
    "              37.47696968166888\n",
    "            ],\n",
    "            [\n",
    "              -122.13181257247923,\n",
    "              37.47937069896909\n",
    "            ],\n",
    "            [\n",
    "              -122.129967212677,\n",
    "              37.48372979560496\n",
    "            ],\n",
    "            [\n",
    "              -122.1340012550354,\n",
    "              37.48372979560496\n",
    "            ]\n",
    "          ]\n",
    "        ]\n",
    "      }\n",
    "    }\n",
    "  ]\n",
    "}\n",
    "\"\"\")"
   ]
  },
  {
   "cell_type": "code",
   "execution_count": 35,
   "id": "f831a85d-7c80-4def-b3bc-bab1034935dc",
   "metadata": {},
   "outputs": [],
   "source": [
    "overlap_ids=gpd.overlay(interactive_area,\n",
    "                        gpd.read_file(json.dumps(geogrid)), \n",
    "                        'intersection')['id'].values"
   ]
  },
  {
   "cell_type": "code",
   "execution_count": 36,
   "id": "122f6fec-70fd-4ac2-8cc2-32e5ea383689",
   "metadata": {},
   "outputs": [],
   "source": [
    "for i in range(len(geogrid['features'])):\n",
    "    if i in overlap_ids:\n",
    "        geogrid['features'][i]['properties']['interactive']=True\n",
    "    else:\n",
    "        geogrid['features'][i]['properties']['interactive']=False\n",
    "        geogrid['features'][i]['properties']['color']=[50,50,50,50]"
   ]
  },
  {
   "cell_type": "markdown",
   "id": "37cc0fd3-aa78-4af7-8414-63e830431e7d",
   "metadata": {},
   "source": [
    "### Send the grid data to CityIO"
   ]
  },
  {
   "cell_type": "code",
   "execution_count": 37,
   "id": "5e666ad6-f431-48d5-ae18-2222e982bebb",
   "metadata": {},
   "outputs": [],
   "source": [
    "headers = {'Content-Type': 'application/json'}\n",
    "url='https://cityscope-api.smartaraucania.org/api/table/{}'.format(table_name)\n",
    "r = requests.post(url+'/GEOGRID', data = json.dumps(geogrid), headers=headers)"
   ]
  },
  {
   "cell_type": "markdown",
   "id": "9ce529bd-e0a0-4f68-9257-33bcddba2305",
   "metadata": {},
   "source": [
    "For the change to be reflected on the front-end, we need to update the current grid state based on the changes to the GEOGRID"
   ]
  },
  {
   "cell_type": "code",
   "execution_count": 38,
   "id": "c4c9f837-3e51-4043-baad-7c4f9fc967c6",
   "metadata": {},
   "outputs": [
    {
     "name": "stdout",
     "output_type": "stream",
     "text": [
      "https://cityscope-api.smartaraucania.org/api/table/epaversion/GEOGRID/ Attempt: 0\n",
      "Proceeding without reviewing GEOGRIDDATA\n",
      "https://cityscope-api.smartaraucania.org/api/table/epaversion/meta/hashes/ Attempt: 0\n",
      "GEOGRIDDATA successfully updated: wTFjHvG8e6CSSBeuuwjArjh2fcP5GUNMpwkeTgRWdif\n"
     ]
    }
   ],
   "source": [
    "G.reset_geogrid_data()"
   ]
  },
  {
   "cell_type": "markdown",
   "id": "50f3a5db-6489-406c-84ca-ad32acd8ab93",
   "metadata": {},
   "source": [
    "The front-end is now ready but there are no analysis modules running yet so nothing happens when we interact with the grid"
   ]
  }
 ],
 "metadata": {
  "kernelspec": {
   "display_name": "SpacialModules",
   "language": "python",
   "name": "python3"
  },
  "language_info": {
   "codemirror_mode": {
    "name": "ipython",
    "version": 3
   },
   "file_extension": ".py",
   "mimetype": "text/x-python",
   "name": "python",
   "nbconvert_exporter": "python",
   "pygments_lexer": "ipython3",
   "version": "3.9.15"
  },
  "vscode": {
   "interpreter": {
    "hash": "5ff88c1b06ac79f93189251bdee70d5972bd2a1e2cba3b811784b94e34c946ff"
   }
  }
 },
 "nbformat": 4,
 "nbformat_minor": 5
}
