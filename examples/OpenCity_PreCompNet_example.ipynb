{
 "cells": [
  {
   "cell_type": "code",
   "execution_count": 2,
   "metadata": {},
   "outputs": [],
   "source": [
    "import sys\n",
    "sys.path.append('../')"
   ]
  },
  {
   "cell_type": "code",
   "execution_count": 3,
   "metadata": {},
   "outputs": [],
   "source": [
    "import OpenCity\n",
    "import PreCompOsmNet"
   ]
  },
  {
   "cell_type": "code",
   "execution_count": 4,
   "metadata": {},
   "outputs": [],
   "source": [
    "import osmnx"
   ]
  },
  {
   "cell_type": "markdown",
   "metadata": {},
   "source": [
    "## Download geometry and OD information for a US State"
   ]
  },
  {
   "cell_type": "code",
   "execution_count": 5,
   "metadata": {},
   "outputs": [
    {
     "ename": "AttributeError",
     "evalue": "module 'OpenCity' has no attribute 'US_State'",
     "output_type": "error",
     "traceback": [
      "\u001b[1;31m---------------------------------------------------------------------------\u001b[0m",
      "\u001b[1;31mAttributeError\u001b[0m                            Traceback (most recent call last)",
      "Cell \u001b[1;32mIn[5], line 10\u001b[0m\n\u001b[0;32m      7\u001b[0m model_area_radius\u001b[39m=\u001b[39m\u001b[39m5000\u001b[39m\n\u001b[0;32m      8\u001b[0m sim_area_radius\u001b[39m=\u001b[39m\u001b[39m1000\u001b[39m\n\u001b[1;32m---> 10\u001b[0m state\u001b[39m=\u001b[39mOpenCity\u001b[39m.\u001b[39;49mUS_State(state_fips\u001b[39m=\u001b[39mfips, year\u001b[39m=\u001b[39myear, \n\u001b[0;32m     11\u001b[0m \u001b[39m#                         geom_type=geom_type\u001b[39;00m\n\u001b[0;32m     12\u001b[0m                        )\n\u001b[0;32m     13\u001b[0m state\u001b[39m.\u001b[39mget_geometry()\n",
      "\u001b[1;31mAttributeError\u001b[0m: module 'OpenCity' has no attribute 'US_State'"
     ]
    }
   ],
   "source": [
    "fips=25\n",
    "year=2017\n",
    "geom_type='block'\n",
    "centre= {'lat': 42.352927, 'lon': -71.059435}\n",
    "centre_x_y=[centre['lon'], centre['lat']]\n",
    "\n",
    "model_area_radius=5000\n",
    "sim_area_radius=1000\n",
    "\n",
    "state=OpenCity.US_State(state_fips=fips, year=year, \n",
    "#                         geom_type=geom_type\n",
    "                       )\n",
    "state.get_geometry()"
   ]
  },
  {
   "cell_type": "markdown",
   "metadata": {},
   "source": [
    "## Specify which zones are in (i) the model area (full study area) and (ii) the simulation area (bounds of the table)"
   ]
  },
  {
   "cell_type": "code",
   "execution_count": null,
   "metadata": {},
   "outputs": [],
   "source": [
    "state.subset_geom_by_distance(centre_x_y, model_area_radius, 'model_area')\n",
    "state.subset_geom_by_distance(centre_x_y, sim_area_radius, 'sim_area')"
   ]
  },
  {
   "cell_type": "code",
   "execution_count": null,
   "metadata": {},
   "outputs": [],
   "source": [
    "all_zones=state.return_geometry()\n",
    "sim_zones=state.return_geometry('sim_area')\n",
    "model_zones=state.return_geometry('model_area')"
   ]
  },
  {
   "cell_type": "markdown",
   "metadata": {},
   "source": [
    "## Simulate a population based on the OD matrix\n",
    "### Sim Pop will only include individuals who satisfy both of these conditions:\n",
    "- live AND work in the model area\n",
    "- live OR work in the sim area. "
   ]
  },
  {
   "cell_type": "code",
   "execution_count": null,
   "metadata": {},
   "outputs": [],
   "source": [
    "state.get_lodes_data()\n",
    "simpop_df=state.lodes_to_pop_table(model_subset_name='model_area',\n",
    "                                  sim_subset_name='sim_area')"
   ]
  },
  {
   "cell_type": "markdown",
   "metadata": {},
   "source": [
    "## Create a osmnx networks for each mode and pre-comoute routes between all node pairs for faster route finding at simulation time"
   ]
  },
  {
   "cell_type": "code",
   "execution_count": null,
   "metadata": {},
   "outputs": [],
   "source": [
    "osmnx.utils.config(bidirectional_network_types=['walk', 'drive', 'cycle'])\n",
    "print('Getting walk network')\n",
    "G_walk = osmnx.graph.graph_from_point([centre['lat'], centre['lon']], \n",
    "                                      dist=sim_area_radius, network_type='walk')\n",
    "for edge in list(G_walk.edges):\n",
    "    G_walk.edges[edge]['speed_kph']=4.8\n",
    "G_walk=PreCompOsmNet.simplify_network(G_walk)\n",
    "G_walk=osmnx.add_edge_travel_times(G_walk)\n",
    "fw_pred_walk=PreCompOsmNet.pre_compute_paths(G_walk)\n",
    "pre_comp_walk=PreCompOsmNet.PreCompOSMNet(G_walk, fw_pred_walk)\n",
    "\n",
    "print('Getting drive network')\n",
    "G_drive = osmnx.graph.graph_from_point([centre['lat'], centre['lon']], \n",
    "                                       dist=sim_area_radius, network_type='drive')\n",
    "G_drive = osmnx.add_edge_speeds(G_drive)\n",
    "G_drive=PreCompOsmNet.simplify_network(G_drive)\n",
    "# compute speeds\n",
    "G_drive=osmnx.add_edge_travel_times(G_drive)\n",
    "fw_pred_drive=PreCompOsmNet.pre_compute_paths(G_drive)\n",
    "pre_comp_drive=PreCompOsmNet.PreCompOSMNet(G_drive, fw_pred_drive)"
   ]
  },
  {
   "cell_type": "code",
   "execution_count": null,
   "metadata": {},
   "outputs": [],
   "source": [
    "networks={'drive': pre_comp_drive, 'walk': pre_comp_walk}\n",
    "\n",
    "drive_dict={\n",
    "    'target_network_id': 'drive',\n",
    "    'travel_time_metric': 'travel_time'}\n",
    "walk_dict={\n",
    "    'target_network_id': 'walk',\n",
    "    'travel_time_metric': 'travel_time'}\n",
    "\n",
    "modes={'drive': OpenCity.Mode(drive_dict), \n",
    "       'walk': OpenCity.Mode(walk_dict)}\n",
    "\n",
    "mob_sys=OpenCity.MobilitySystem(modes=modes, networks= networks)"
   ]
  },
  {
   "cell_type": "markdown",
   "metadata": {},
   "source": [
    "# Create the Simulation"
   ]
  },
  {
   "cell_type": "code",
   "execution_count": null,
   "metadata": {},
   "outputs": [],
   "source": [
    "sim=OpenCity.Simulation(simpop_df, mob_sys, model_zones)\n",
    "simpop_df=sim.get_simpop_subset(simpop_df, sample_N=1000)\n",
    "simpop_df=sim.create_simple_HWH_schedules(simpop_df)\n",
    "all_trips_df=sim.create_trip_table(simpop_df)\n",
    "all_trips_df=sim.mode_chooser(all_trips_df)\n",
    "route_table=sim.get_routes_table(all_trips_df)\n",
    "route_gdf=sim.route_table_to_geo(route_table)"
   ]
  },
  {
   "cell_type": "code",
   "execution_count": null,
   "metadata": {},
   "outputs": [],
   "source": [
    "import matplotlib.pyplot as plt\n",
    "fig, ax = plt.subplots(1, figsize=(12,12))\n",
    "route_gdf.plot(column='earnings', legend=True, alpha=0.1, ax=ax)"
   ]
  },
  {
   "cell_type": "code",
   "execution_count": null,
   "metadata": {},
   "outputs": [],
   "source": []
  }
 ],
 "metadata": {
  "anaconda-cloud": {},
  "kernelspec": {
   "display_name": "spacialModules",
   "language": "python",
   "name": "python3"
  },
  "language_info": {
   "codemirror_mode": {
    "name": "ipython",
    "version": 3
   },
   "file_extension": ".py",
   "mimetype": "text/x-python",
   "name": "python",
   "nbconvert_exporter": "python",
   "pygments_lexer": "ipython3",
   "version": "3.9.15 (main, Nov 24 2022, 14:39:17) [MSC v.1916 64 bit (AMD64)]"
  },
  "vscode": {
   "interpreter": {
    "hash": "4b006d8351172f38794f000897ad207ac6c1eef22243895d0c6bb96b2dd6c16b"
   }
  }
 },
 "nbformat": 4,
 "nbformat_minor": 2
}
