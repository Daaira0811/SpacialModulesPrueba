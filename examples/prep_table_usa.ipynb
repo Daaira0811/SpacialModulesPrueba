{
 "cells": [
  {
   "cell_type": "code",
   "execution_count": 1,
   "metadata": {},
   "outputs": [
    {
     "ename": "ModuleNotFoundError",
     "evalue": "No module named 'Simulation'",
     "output_type": "error",
     "traceback": [
      "\u001b[1;31m---------------------------------------------------------------------------\u001b[0m",
      "\u001b[1;31mModuleNotFoundError\u001b[0m                       Traceback (most recent call last)",
      "Cell \u001b[1;32mIn[1], line 2\u001b[0m\n\u001b[0;32m      1\u001b[0m \u001b[39mfrom\u001b[39;00m \u001b[39mbrix\u001b[39;00m \u001b[39mimport\u001b[39;00m Indicator, Handler\n\u001b[1;32m----> 2\u001b[0m \u001b[39mimport\u001b[39;00m \u001b[39mSimulation\u001b[39;00m\u001b[39m,\u001b[39m \u001b[39mUS_State\u001b[39;00m\n\u001b[0;32m      3\u001b[0m \u001b[39mimport\u001b[39;00m \u001b[39mgeopandas\u001b[39;00m \u001b[39mas\u001b[39;00m \u001b[39mgpd\u001b[39;00m\n\u001b[0;32m      4\u001b[0m \u001b[39mfrom\u001b[39;00m \u001b[39mshapely\u001b[39;00m\u001b[39m.\u001b[39;00m\u001b[39mgeometry\u001b[39;00m \u001b[39mimport\u001b[39;00m Point, shape\n",
      "\u001b[1;31mModuleNotFoundError\u001b[0m: No module named 'Simulation'"
     ]
    }
   ],
   "source": [
    "from brix import Indicator, Handler\n",
    "import Simulation, US_State\n",
    "import geopandas as gpd\n",
    "from shapely.geometry import Point, shape\n",
    "import json\n",
    "import requests\n",
    "import urllib\n",
    "from geogrid_tools import *"
   ]
  },
  {
   "cell_type": "code",
   "execution_count": null,
   "metadata": {},
   "outputs": [],
   "source": [
    "table_name='epaversion'\n",
    "geom_type='block_group'\n",
    "\n",
    "model_radius=15000\n",
    "reference_radius=2500"
   ]
  },
  {
   "cell_type": "markdown",
   "metadata": {},
   "source": [
    "- Create the handler\n",
    "- Get the geogrid\n",
    "- Identify the state\n",
    "- Get the state geometry\n",
    "- find the overlap\n",
    "- Assign the sim, model, reference zones\n",
    "- Append the grid \"zones\" to the actual zones (if the zones properties are updated in one indicator, will they be updated for all?)\n",
    "\n",
    "- all the above in a world object?"
   ]
  },
  {
   "cell_type": "code",
   "execution_count": null,
   "metadata": {},
   "outputs": [],
   "source": [
    "h=Handler(table_name)"
   ]
  },
  {
   "cell_type": "code",
   "execution_count": null,
   "metadata": {},
   "outputs": [],
   "source": [
    "# geogrid_data=h.get_geogrid_data(include_geometries=True)"
   ]
  },
  {
   "cell_type": "code",
   "execution_count": null,
   "metadata": {},
   "outputs": [],
   "source": [
    "\n",
    "# geogrid=geogrid_data.GEOGRID"
   ]
  },
  {
   "cell_type": "code",
   "execution_count": null,
   "metadata": {},
   "outputs": [],
   "source": [
    "# geogrid=h.get_GEOGRID()\n",
    "# geom = [f['geometry'] for f in geogrid['features']]\n",
    "# geogrid_gdp=gpd.GeoDataFrame({'geometry':geom})"
   ]
  },
  {
   "cell_type": "code",
   "execution_count": null,
   "metadata": {},
   "outputs": [],
   "source": [
    "get_url='https://cityio.media.mit.edu/api/table/'+table_name\n",
    "with urllib.request.urlopen(get_url+'/GEOGRID') as url:\n",
    "    geogrid=gpd.read_file(url.read().decode())\n",
    "\n",
    "centroids=geogrid['geometry'].centroid\n",
    "geogrid['x_centroid']=[c.x for c in centroids]\n",
    "geogrid['y_centroid']=[c.y for c in centroids]\n",
    "geogrid"
   ]
  },
  {
   "cell_type": "code",
   "execution_count": null,
   "metadata": {},
   "outputs": [],
   "source": [
    "types=json.load(open('./data/default_types.json'))"
   ]
  },
  {
   "cell_type": "code",
   "execution_count": null,
   "metadata": {},
   "outputs": [],
   "source": [
    "try:\n",
    "    interactive_zone=gpd.read_file('./tables/{}/interactive.geojson'.format(table_name))\n",
    "    print('using interactive zone')\n",
    "except:\n",
    "    interactive_zone=None\n",
    "properties=init_geogrid(table_name, interactive_zone=interactive_zone, types=types)"
   ]
  },
  {
   "cell_type": "code",
   "execution_count": null,
   "metadata": {},
   "outputs": [],
   "source": [
    "state_fips=identify_state(properties)"
   ]
  },
  {
   "cell_type": "code",
   "execution_count": null,
   "metadata": {},
   "outputs": [],
   "source": [
    "st=US_State.US_State(state_fips, year=2018, geom_type=geom_type)\n",
    "st.get_geometry()\n",
    "# st.remove_non_urban_zones()\n",
    "st.get_lodes_data( include=['wac', 'rac', 'od'])\n",
    "st.add_lodes_cols_to_shape()\n",
    "st.geom.plot()"
   ]
  },
  {
   "cell_type": "code",
   "execution_count": null,
   "metadata": {},
   "outputs": [],
   "source": [
    "st.subset_geom_by_distance(centre_x_y=[geogrid.x_centroid.mean(), geogrid.y_centroid.mean()], \n",
    "                                   radius=reference_radius, name='reference_area')\n",
    "\n",
    "st.subset_geom_by_distance(centre_x_y=[geogrid.x_centroid.mean(), geogrid.y_centroid.mean()], \n",
    "                                   radius=model_radius, name='model_area')\n",
    "\n",
    "st.geom=assign_sim_area(gpd.GeoDataFrame(geogrid), st.geom)"
   ]
  },
  {
   "cell_type": "code",
   "execution_count": null,
   "metadata": {},
   "outputs": [],
   "source": [
    "geogrid_union=gpd.GeoDataFrame(geometry=[geogrid.geometry.unary_union], data=[], crs=geogrid.crs)\n",
    "sim_geoids=select_geom_by_overlap_threshold(areas_to_filter=st.geom, filter_with=geogrid_union, \n",
    "                                            area_id_col='copy_GEOID', \n",
    "                                            min_prop=0.5)\n",
    "st.geom['sim_area']=False\n",
    "st.geom.loc[sim_geoids, 'sim_area']=True"
   ]
  },
  {
   "cell_type": "code",
   "execution_count": null,
   "metadata": {},
   "outputs": [],
   "source": [
    "st.geom.loc[st.geom['sim_area']].plot()"
   ]
  },
  {
   "cell_type": "code",
   "execution_count": null,
   "metadata": {},
   "outputs": [],
   "source": [
    "areas_to_filter=st.geom\n",
    "filter_with=geogrid\n",
    "area_id_col='copy_GEOID'\n",
    "min_prop=0.5\n",
    "intersector_id_col='id'\n",
    "\n",
    "areas_to_filter['zone_area']=areas_to_filter.geometry.area\n",
    "all_intersect=gpd.overlay(areas_to_filter, filter_with, 'intersection')\n",
    "all_intersect['intersect_area']=all_intersect.geometry.area\n",
    "all_intersect=all_intersect[[col for col in all_intersect if not col=='zone_area']]\n",
    "all_intersect=all_intersect.merge(areas_to_filter[[area_id_col, 'zone_area']], \n",
    "                                how='left', left_on=area_id_col, right_on=area_id_col)\n",
    "all_intersect['prop_area']=all_intersect['intersect_area']/all_intersect['zone_area']\n",
    "valid_intersect=all_intersect.loc[all_intersect['prop_area']>min_prop]\n",
    "valid_ids=list(valid_intersect[area_id_col])\n",
    "\n"
   ]
  },
  {
   "cell_type": "code",
   "execution_count": null,
   "metadata": {},
   "outputs": [],
   "source": [
    "zones=st.geom.rename(columns={col: 'area' for col in st.geom.columns if 'ALAND' in col})"
   ]
  },
  {
   "cell_type": "code",
   "execution_count": null,
   "metadata": {},
   "outputs": [],
   "source": [
    "import os\n",
    "if not os.path.isdir('tables/{}'.format(table_name)):\n",
    "    os.mkdir('tables/{}'.format(table_name))"
   ]
  },
  {
   "cell_type": "code",
   "execution_count": null,
   "metadata": {},
   "outputs": [],
   "source": [
    "zones.loc[zones['model_area']].to_file('tables/{}/zones.geojson'.format(table_name), driver='GeoJSON')"
   ]
  },
  {
   "cell_type": "code",
   "execution_count": null,
   "metadata": {},
   "outputs": [],
   "source": [
    "simpop_df=st.lodes_to_pop_table(\n",
    "    model_subset_name='model_area', sim_subset_name='sim_area')\n",
    "simpop_df.to_csv('tables/{}/simpop_df.csv'.format(table_name), index=False)"
   ]
  },
  {
   "cell_type": "code",
   "execution_count": null,
   "metadata": {},
   "outputs": [],
   "source": [
    "geogrid.to_file('tables/{}/geogrid.geojson'.format(table_name), driver='GeoJSON')"
   ]
  },
  {
   "cell_type": "code",
   "execution_count": null,
   "metadata": {},
   "outputs": [],
   "source": [
    "assert len(zones.loc[((zones['sim_area'])&(~zones['reference_area']))])==0"
   ]
  },
  {
   "cell_type": "code",
   "execution_count": null,
   "metadata": {},
   "outputs": [],
   "source": [
    "import matplotlib.pyplot as plt\n",
    "fig, ax= plt.subplots()\n",
    "\n",
    "zones.loc[zones['sim_area']].plot(ax=ax, color='red', alpha=0.2)\n",
    "zones.loc[zones['reference_area']].plot(ax=ax, color='blue', alpha=0.2)"
   ]
  },
  {
   "cell_type": "code",
   "execution_count": null,
   "metadata": {},
   "outputs": [],
   "source": []
  }
 ],
 "metadata": {
  "kernelspec": {
   "display_name": "SpacialModules",
   "language": "python",
   "name": "python3"
  },
  "language_info": {
   "codemirror_mode": {
    "name": "ipython",
    "version": 3
   },
   "file_extension": ".py",
   "mimetype": "text/x-python",
   "name": "python",
   "nbconvert_exporter": "python",
   "pygments_lexer": "ipython3",
   "version": "3.9.15"
  },
  "vscode": {
   "interpreter": {
    "hash": "5ff88c1b06ac79f93189251bdee70d5972bd2a1e2cba3b811784b94e34c946ff"
   }
  }
 },
 "nbformat": 4,
 "nbformat_minor": 4
}
